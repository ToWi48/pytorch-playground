{
 "cells": [
  {
   "cell_type": "markdown",
   "metadata": {
    "id": "u4UqNr3iWFLl"
   },
   "source": [
    "# Welcome to your Deep Learning with Pytorch Tutorial!"
   ]
  },
  {
   "cell_type": "markdown",
   "metadata": {
    "id": "50-RVVhYEQN3"
   },
   "source": [
    "In this notebook, we will make a basic deep learning model and get familiar with the computer vision pipeline."
   ]
  },
  {
   "cell_type": "markdown",
   "metadata": {
    "id": "-ewBdbfuWNq2"
   },
   "source": [
    "### Learning Objectives:"
   ]
  },
  {
   "cell_type": "markdown",
   "metadata": {
    "id": "vbCSHTOfFH4h"
   },
   "source": [
    "\n",
    "*   Understand how to build a simple neural network in PyTorch using object-oriented programming (OOP): Learn how to define a custom model class using nn.Module, implement layers in the __init__() method, and specify forward pass logic in the forward() method.\n",
    "*   Train and evaluate a model for MNIST digit classification: Learn to implement a training loop, use optimizers like Adam, calculate losses using cross-entropy, and evaluate model performance with accuracy and confusion matrices.\n",
    "*   Visualize and interpret model performance: Understand how to plot loss curves, confusion matrices, and misclassified images to analyze model behavior and identify areas for improvement."
   ]
  },
  {
   "cell_type": "markdown",
   "metadata": {
    "id": "XX1RKXwTWRsA"
   },
   "source": [
    "### Structure of This Notebook:"
   ]
  },
  {
   "cell_type": "markdown",
   "metadata": {
    "id": "FkJ2nUEfF1Sx"
   },
   "source": [
    "\n",
    "This notebook is designed in a structured and beginner-friendly way to help you learn step by step. It follows a logical progression, with each block of code building on the previous one. Here's how the notebook is organized:\n",
    "\n",
    "1. **Code Blocks**: Each major part of the tutorial is broken down into individual code blocks. Each block handles a specific task, such as loading data, defining the model, training, validation, and evaluating the model.\n",
    "\n",
    "2. **Code Descriptions**: After each block of code, there is a detailed explanation that explains what the code does and why it is important.\n",
    "\n",
    "3. **Visualizations**: Throughout the notebook, several visualizations such as loss curves, confusion matrices, and misclassified images are used to help you understand model performance and where the model might be making mistakes.\n",
    "\n",
    "4. **FAQs Section**: At the end of the notebook, there is an FAQ section that addresses common questions you may have while working with the code.\n"
   ]
  },
  {
   "cell_type": "markdown",
   "metadata": {
    "id": "1NB4MyL9Wasc"
   },
   "source": [
    "### About the Dataset:"
   ]
  },
  {
   "cell_type": "markdown",
   "metadata": {
    "id": "-ubkxpa_GpyO"
   },
   "source": [
    "\n",
    "\n",
    "*   MNIST (Modified National Institute of Standards and Technology) is a widely-used dataset in machine learning and computer vision.\n",
    "* It consists of 70,000 grayscale images of handwritten digits (0-9), divided into a training set of 60,000 images and a test set of 10,000 images.\n",
    "* Each image is 28x28 pixels, making the total number of features per image 784 (28x28).\n",
    "* The pixel values range from 0 (black) to 255 (white), but they are typically normalized to a range of [0, 1] when used in deep learning models.\n",
    "*The dataset includes labels corresponding to the digits in the images, ranging from 0 to 9. This makes it a 10-class classification problem.\n",
    "\n",
    "\n"
   ]
  },
  {
   "cell_type": "markdown",
   "metadata": {
    "id": "7wVgwpqdQT-z"
   },
   "source": [
    "## Step 1: Importing Libraries"
   ]
  },
  {
   "cell_type": "code",
   "execution_count": 2,
   "metadata": {
    "colab": {
     "base_uri": "https://localhost:8080/"
    },
    "id": "i8Q8m5DWrRrB",
    "outputId": "3165e414-3754-4d1c-ccb6-145406a58bb2"
   },
   "outputs": [
    {
     "name": "stdout",
     "output_type": "stream",
     "text": [
      "Requirement already satisfied: torch in ./.venv/lib/python3.12/site-packages (2.5.1)\n",
      "Requirement already satisfied: torchvision in ./.venv/lib/python3.12/site-packages (0.20.1)\n",
      "Requirement already satisfied: matplotlib in ./.venv/lib/python3.12/site-packages (3.9.2)\n",
      "Requirement already satisfied: scikit-learn in ./.venv/lib/python3.12/site-packages (1.5.2)\n",
      "Requirement already satisfied: seaborn in ./.venv/lib/python3.12/site-packages (0.13.2)\n",
      "Requirement already satisfied: filelock in ./.venv/lib/python3.12/site-packages (from torch) (3.16.1)\n",
      "Requirement already satisfied: typing-extensions>=4.8.0 in ./.venv/lib/python3.12/site-packages (from torch) (4.12.2)\n",
      "Requirement already satisfied: networkx in ./.venv/lib/python3.12/site-packages (from torch) (3.4.2)\n",
      "Requirement already satisfied: jinja2 in ./.venv/lib/python3.12/site-packages (from torch) (3.1.4)\n",
      "Requirement already satisfied: fsspec in ./.venv/lib/python3.12/site-packages (from torch) (2024.10.0)\n",
      "Requirement already satisfied: nvidia-cuda-nvrtc-cu12==12.4.127 in ./.venv/lib/python3.12/site-packages (from torch) (12.4.127)\n",
      "Requirement already satisfied: nvidia-cuda-runtime-cu12==12.4.127 in ./.venv/lib/python3.12/site-packages (from torch) (12.4.127)\n",
      "Requirement already satisfied: nvidia-cuda-cupti-cu12==12.4.127 in ./.venv/lib/python3.12/site-packages (from torch) (12.4.127)\n",
      "Requirement already satisfied: nvidia-cudnn-cu12==9.1.0.70 in ./.venv/lib/python3.12/site-packages (from torch) (9.1.0.70)\n",
      "Requirement already satisfied: nvidia-cublas-cu12==12.4.5.8 in ./.venv/lib/python3.12/site-packages (from torch) (12.4.5.8)\n",
      "Requirement already satisfied: nvidia-cufft-cu12==11.2.1.3 in ./.venv/lib/python3.12/site-packages (from torch) (11.2.1.3)\n",
      "Requirement already satisfied: nvidia-curand-cu12==10.3.5.147 in ./.venv/lib/python3.12/site-packages (from torch) (10.3.5.147)\n",
      "Requirement already satisfied: nvidia-cusolver-cu12==11.6.1.9 in ./.venv/lib/python3.12/site-packages (from torch) (11.6.1.9)\n",
      "Requirement already satisfied: nvidia-cusparse-cu12==12.3.1.170 in ./.venv/lib/python3.12/site-packages (from torch) (12.3.1.170)\n",
      "Requirement already satisfied: nvidia-nccl-cu12==2.21.5 in ./.venv/lib/python3.12/site-packages (from torch) (2.21.5)\n",
      "Requirement already satisfied: nvidia-nvtx-cu12==12.4.127 in ./.venv/lib/python3.12/site-packages (from torch) (12.4.127)\n",
      "Requirement already satisfied: nvidia-nvjitlink-cu12==12.4.127 in ./.venv/lib/python3.12/site-packages (from torch) (12.4.127)\n",
      "Requirement already satisfied: triton==3.1.0 in ./.venv/lib/python3.12/site-packages (from torch) (3.1.0)\n",
      "Requirement already satisfied: setuptools in ./.venv/lib/python3.12/site-packages (from torch) (75.4.0)\n",
      "Requirement already satisfied: sympy==1.13.1 in ./.venv/lib/python3.12/site-packages (from torch) (1.13.1)\n",
      "Requirement already satisfied: mpmath<1.4,>=1.1.0 in ./.venv/lib/python3.12/site-packages (from sympy==1.13.1->torch) (1.3.0)\n",
      "Requirement already satisfied: numpy in ./.venv/lib/python3.12/site-packages (from torchvision) (2.1.3)\n",
      "Requirement already satisfied: pillow!=8.3.*,>=5.3.0 in ./.venv/lib/python3.12/site-packages (from torchvision) (11.0.0)\n",
      "Requirement already satisfied: contourpy>=1.0.1 in ./.venv/lib/python3.12/site-packages (from matplotlib) (1.3.0)\n",
      "Requirement already satisfied: cycler>=0.10 in ./.venv/lib/python3.12/site-packages (from matplotlib) (0.12.1)\n",
      "Requirement already satisfied: fonttools>=4.22.0 in ./.venv/lib/python3.12/site-packages (from matplotlib) (4.54.1)\n",
      "Requirement already satisfied: kiwisolver>=1.3.1 in ./.venv/lib/python3.12/site-packages (from matplotlib) (1.4.7)\n",
      "Requirement already satisfied: packaging>=20.0 in ./.venv/lib/python3.12/site-packages (from matplotlib) (24.2)\n",
      "Requirement already satisfied: pyparsing>=2.3.1 in ./.venv/lib/python3.12/site-packages (from matplotlib) (3.2.0)\n",
      "Requirement already satisfied: python-dateutil>=2.7 in ./.venv/lib/python3.12/site-packages (from matplotlib) (2.9.0.post0)\n",
      "Requirement already satisfied: scipy>=1.6.0 in ./.venv/lib/python3.12/site-packages (from scikit-learn) (1.14.1)\n",
      "Requirement already satisfied: joblib>=1.2.0 in ./.venv/lib/python3.12/site-packages (from scikit-learn) (1.4.2)\n",
      "Requirement already satisfied: threadpoolctl>=3.1.0 in ./.venv/lib/python3.12/site-packages (from scikit-learn) (3.5.0)\n",
      "Requirement already satisfied: pandas>=1.2 in ./.venv/lib/python3.12/site-packages (from seaborn) (2.2.3)\n",
      "Requirement already satisfied: pytz>=2020.1 in ./.venv/lib/python3.12/site-packages (from pandas>=1.2->seaborn) (2024.2)\n",
      "Requirement already satisfied: tzdata>=2022.7 in ./.venv/lib/python3.12/site-packages (from pandas>=1.2->seaborn) (2024.2)\n",
      "Requirement already satisfied: six>=1.5 in ./.venv/lib/python3.12/site-packages (from python-dateutil>=2.7->matplotlib) (1.16.0)\n",
      "Requirement already satisfied: MarkupSafe>=2.0 in ./.venv/lib/python3.12/site-packages (from jinja2->torch) (3.0.2)\n"
     ]
    }
   ],
   "source": [
    "# First, install required libraries (Colab already has PyTorch pre-installed)\n",
    "!pip install torch torchvision matplotlib scikit-learn seaborn\n",
    "\n",
    "# Import essential libraries from PyTorch\n",
    "import torch  # PyTorch's core library for building and training deep learning models\n",
    "import torch.nn as nn  # Import the neural network module from PyTorch\n",
    "import torch.optim as optim  # Import optimization algorithms such as SGD, Adam\n",
    "import torch.nn.functional as F  # Import functional utilities like activation functions\n",
    "\n",
    "# Import dataset utilities and transformations from torchvision, a library for vision-related tasks\n",
    "from torchvision import datasets, transforms\n",
    "from torch.utils.data import DataLoader, random_split  # DataLoader for batching, and random_split for splitting data\n",
    "\n",
    "# Import additional libraries for data processing and visualization\n",
    "import numpy as np  # For numerical operations\n",
    "import matplotlib.pyplot as plt  # For plotting graphs\n",
    "from sklearn.metrics import accuracy_score, precision_score, recall_score, f1_score  # For evaluation metrics\n"
   ]
  },
  {
   "cell_type": "markdown",
   "metadata": {
    "id": "fNIOIWs3J2CS"
   },
   "source": [
    "* torch: PyTorch's main module, which provides tensor operations (like NumPy arrays) and deep learning components.\n",
    "* torch.nn: A submodule used to build neural network layers, like nn.Linear for fully connected layers, nn.Conv2d for convolutional layers, and more.\n",
    "* torch.optim: Provides optimizers like SGD and Adam, which are algorithms used to update model parameters during training.\n",
    "* torch.nn.functional: Contains functions like ReLU (activation functions), softmax, loss functions, etc. You can use these functions directly without creating layers.\n",
    "* datasets, transforms: datasets contains popular datasets like MNIST, CIFAR-10, and more. transforms applies pre-processing transformations like normalization, resizing, etc., to datasets.\n",
    "* DataLoader: Used to batch the data and make it iterable for training the model. It helps in shuffling and loading data efficiently.\n",
    "* random_split: Useful for splitting datasets into training, validation, or test sets.\n",
    "* np: NumPy is a powerful library for numerical computation, often used alongside PyTorch.\n",
    "* matplotlib.pyplot: A plotting library used for visualizing data such as loss curves, accuracy trends, and more.\n",
    "* sklearn.metrics: Provides a set of functions to calculate important evaluation metrics such as accuracy, precision, recall, and F1 score."
   ]
  },
  {
   "cell_type": "markdown",
   "metadata": {
    "id": "RCBQj8KHQdg9"
   },
   "source": [
    "## Step 2: Setting Random Seed"
   ]
  },
  {
   "cell_type": "code",
   "execution_count": 3,
   "metadata": {
    "id": "3avl52nSbaqm"
   },
   "outputs": [],
   "source": [
    "# Set random seed for reproducibility\n",
    "torch.manual_seed(42)  # Set the seed for generating random numbers in PyTorch\n",
    "np.random.seed(42)     # Set the seed for generating random numbers in NumPy"
   ]
  },
  {
   "cell_type": "markdown",
   "metadata": {
    "id": "cx2oytTfZLY_"
   },
   "source": [
    "* torch.manual_seed(42): This line sets the random seed for PyTorch's random number generator. By using a specific seed (in this case, 42), you ensure that any random numbers generated by PyTorch (e.g., during weight initialization, dropout, shuffling data) will be the same every time you run the code. This is crucial for reproducibility in experiments.\n",
    "\n",
    "* np.random.seed(42): Similarly, this line sets the random seed for NumPy's random number generator. This means that any random numbers generated by NumPy will also be consistent across runs, allowing for reproducibility when using NumPy functions."
   ]
  },
  {
   "cell_type": "markdown",
   "metadata": {
    "id": "p6hum1K6QlGB"
   },
   "source": [
    "## Step 3: Device Configuration"
   ]
  },
  {
   "cell_type": "code",
   "execution_count": 4,
   "metadata": {
    "colab": {
     "base_uri": "https://localhost:8080/"
    },
    "id": "xWyQ9c7arlob",
    "outputId": "68a21d47-189d-441a-fd50-f85bb360e191"
   },
   "outputs": [
    {
     "data": {
      "text/plain": [
       "False"
      ]
     },
     "execution_count": 4,
     "metadata": {},
     "output_type": "execute_result"
    }
   ],
   "source": [
    "# Check if CUDA (GPU support) is available and set the device accordingly\n",
    "device = torch.device(\"cuda\" if torch.cuda.is_available() else \"cpu\")\n",
    "\n",
    "# Check if CUDA is available and output the result (True if a GPU is available, False otherwise)\n",
    "torch.cuda.is_available()\n"
   ]
  },
  {
   "cell_type": "markdown",
   "metadata": {
    "id": "hKAMSZJxZsWx"
   },
   "source": [
    "* If  a CUDA-enabled GPU is available is, it sets the device to \"cuda\", which enables the code to run on the GPU. If a GPU isn't available, it defaults to using the CPU (\"cpu\").\n",
    "* Using a GPU can significantly speed up the training and inference of deep learning models, as GPUs are optimized for the kind of parallel computations required for neural networks."
   ]
  },
  {
   "cell_type": "markdown",
   "metadata": {
    "id": "0iAc-XwqQp_X"
   },
   "source": [
    "## Step 4: Initialize Transform"
   ]
  },
  {
   "cell_type": "code",
   "execution_count": 5,
   "metadata": {
    "id": "XFK-bbKxsFM9"
   },
   "outputs": [],
   "source": [
    "# Define a transformation pipeline for preprocessing the dataset\n",
    "transform = transforms.Compose([\n",
    "    transforms.ToTensor(),  # Convert the images to PyTorch Tensors (from PIL images or NumPy arrays)\n",
    "])"
   ]
  },
  {
   "cell_type": "markdown",
   "metadata": {
    "id": "_jm3UAUUaDWo"
   },
   "source": [
    "transforms.Compose([ ... ]): This creates a pipeline of transformations that will be applied to the dataset. In deep learning, it's common to preprocess data before feeding it into a model, and Compose allows you to chain together multiple transformations.\n"
   ]
  },
  {
   "cell_type": "markdown",
   "metadata": {
    "id": "sE2-RLlDQuri"
   },
   "source": [
    "## Step 5: Download Dataset"
   ]
  },
  {
   "cell_type": "code",
   "execution_count": 6,
   "metadata": {
    "colab": {
     "base_uri": "https://localhost:8080/"
    },
    "id": "Zl6Eyos_MnrA",
    "outputId": "bcc137f6-ef79-4e66-f346-93d2b853391d"
   },
   "outputs": [],
   "source": [
    "# Load the MNIST training dataset\n",
    "train_data = datasets.MNIST(\n",
    "    root='data',          # Directory to store the dataset\n",
    "    train=True,           # Set to True to load the training set\n",
    "    download=True,        # If the dataset isn't already downloaded, download it\n",
    "    transform=transform   # Apply the transformation (convert images to tensors)\n",
    ")\n",
    "\n",
    "# Load the MNIST test dataset\n",
    "test_data = datasets.MNIST(\n",
    "    root='data',          # Directory to store the dataset\n",
    "    train=False,          # Set to False to load the test set\n",
    "    download=True,        # If the dataset isn't already downloaded, download it\n",
    "    transform=transform   # Apply the transformation (convert images to tensors)\n",
    ")"
   ]
  },
  {
   "cell_type": "markdown",
   "metadata": {
    "id": "1_4v1NirSUXl"
   },
   "source": [
    "* transform=transform: We apply the transformation pipeline that we defined earlier (i.e., converting images to PyTorch tensors). This ensures the images are in the correct format for model input, and pixel values are normalized.\n",
    "\n"
   ]
  },
  {
   "cell_type": "markdown",
   "metadata": {
    "id": "-Dwm2jJqQ0SK"
   },
   "source": [
    "## Step 6: Train/Validation Split"
   ]
  },
  {
   "cell_type": "code",
   "execution_count": 7,
   "metadata": {
    "id": "5_riBLitbLMR"
   },
   "outputs": [],
   "source": [
    "train_size = int(0.9 * len(train_data))  # 90% of the data will be used for training\n",
    "val_size = len(train_data) - train_size  # Remaining 10% will be used for validation\n",
    "\n",
    "# Split the original training data into a new training set and a validation set\n",
    "train_data, val_data = random_split(train_data, [train_size, val_size])\n"
   ]
  },
  {
   "cell_type": "markdown",
   "metadata": {
    "id": "ufQYAwbyQ4mh"
   },
   "source": [
    "## Step 7: Dataloader"
   ]
  },
  {
   "cell_type": "code",
   "execution_count": 8,
   "metadata": {
    "colab": {
     "base_uri": "https://localhost:8080/"
    },
    "id": "8F5YmQ2CbMtf",
    "outputId": "a672ac35-0897-4526-9c2d-6f46f7df8f4d"
   },
   "outputs": [
    {
     "name": "stdout",
     "output_type": "stream",
     "text": [
      "Training set size: 54000\n",
      "Validation set size: 6000\n",
      "Test set size: 10000\n"
     ]
    }
   ],
   "source": [
    "# Create a DataLoader for the training set\n",
    "train_loader = DataLoader(\n",
    "    train_data,  # The training dataset\n",
    "    batch_size=64,  # Number of samples per batch during training\n",
    "    shuffle=True  # Shuffle the data at the start of every epoch for better generalization\n",
    ")\n",
    "\n",
    "# Create a DataLoader for the validation set\n",
    "val_loader = DataLoader(\n",
    "    val_data,  # The validation dataset\n",
    "    batch_size=64,  # Same batch size as training\n",
    "    shuffle=False  # No need to shuffle validation data\n",
    ")\n",
    "\n",
    "# Create a DataLoader for the test set\n",
    "test_loader = DataLoader(\n",
    "    test_data,  # The test dataset\n",
    "    batch_size=64,  # Same batch size as training\n",
    "    shuffle=False  # No need to shuffle test data\n",
    ")\n",
    "\n",
    "# Print the sizes of the datasets\n",
    "print(f\"Training set size: {train_size}\")\n",
    "print(f\"Validation set size: {val_size}\")\n",
    "print(f\"Test set size: {len(test_data)}\")\n"
   ]
  },
  {
   "cell_type": "markdown",
   "metadata": {
    "id": "tYSUqRcnTYG0"
   },
   "source": [
    "* A DataLoader in PyTorch is responsible for loading data in batches and feeding it to the model. It allows you to handle large datasets more efficiently, as you don't have to load the entire dataset into memory at once.\n",
    "* Batch Processing: Instead of feeding the model the entire dataset at once, we split the data into \"batches\" (chunks) of size 64. This allows the model to process a smaller amount of data at a time, making training faster and more memory-efficient.\n",
    "* shuffle=True: For the training data, we set shuffle=True, which means the data will be randomly shuffled at the start of each epoch (i.e., each complete pass through the training data). This helps to prevent the model from learning the order of the data and encourages better generalization."
   ]
  },
  {
   "cell_type": "markdown",
   "metadata": {
    "id": "XxfvlhIYQ8ZT"
   },
   "source": [
    "## Step 8: Get to Know Your Dataset - Shape"
   ]
  },
  {
   "cell_type": "code",
   "execution_count": 9,
   "metadata": {
    "colab": {
     "base_uri": "https://localhost:8080/"
    },
    "id": "88rhFwLdM7Pb",
    "outputId": "4bfe7911-5d37-4f6f-f70a-4a6547f6abd9"
   },
   "outputs": [
    {
     "name": "stdout",
     "output_type": "stream",
     "text": [
      "Number of training examples: 54000\n",
      "Number of testing examples: 10000\n",
      "Image shape: torch.Size([1, 28, 28]), Label: 6\n"
     ]
    }
   ],
   "source": [
    "# 1. Print basic dataset info\n",
    "print(f\"Number of training examples: {len(train_data)}\")\n",
    "print(f\"Number of testing examples: {len(test_data)}\")\n",
    "\n",
    "# 2. Checking the shape of a single data point (input)\n",
    "sample_image, sample_label = train_data[0]  # Get first image and label\n",
    "print(f\"Image shape: {sample_image.shape}, Label: {sample_label}\")"
   ]
  },
  {
   "cell_type": "markdown",
   "metadata": {
    "id": "ZtzF9bPOUFUU"
   },
   "source": [
    "* sample_image.shape: This will print the dimensions of the image. Since MNIST images are 28x28 pixels, you should see something like torch.Size([1, 28, 28]). The 1 indicates that it's a single-channel grayscale image (unlike RGB images which have 3 channels).\n",
    "* sample_label: This will print the label corresponding to the image (for MNIST, it’s a digit between 0-9)."
   ]
  },
  {
   "cell_type": "markdown",
   "metadata": {
    "id": "wwm5Uy2bREO6"
   },
   "source": [
    "## Step 9: Plot Data Samples"
   ]
  },
  {
   "cell_type": "code",
   "execution_count": 10,
   "metadata": {
    "colab": {
     "base_uri": "https://localhost:8080/",
     "height": 213
    },
    "id": "g2KBu4nANDWb",
    "outputId": "693b1f51-bb1e-45dc-bdff-432b75a7c3b2"
   },
   "outputs": [
    {
     "data": {
      "image/png": "[encoded data removed]",
      "text/plain": [
       "<Figure size 1000x500 with 5 Axes>"
      ]
     },
     "metadata": {},
     "output_type": "display_data"
    }
   ],
   "source": [
    "# 3. Display the first 5 data points (images and labels)\n",
    "fig = plt.figure(figsize=(10, 5))  # Larger figure to display 5 images\n",
    "for i in range(5):\n",
    "    image, label = train_data[i]  # Get image and label\n",
    "    plt.subplot(1, 5, i + 1)\n",
    "    plt.tight_layout()\n",
    "    plt.imshow(image[0], cmap='gray', interpolation='none')\n",
    "    plt.title(f\"Label: {label}\")\n",
    "    plt.xticks([])\n",
    "    plt.yticks([])\n",
    "plt.show()"
   ]
  },
  {
   "cell_type": "markdown",
   "metadata": {
    "id": "CeUzjUXHRIi5"
   },
   "source": [
    "## Step 10: Histogram"
   ]
  },
  {
   "cell_type": "code",
   "execution_count": 11,
   "metadata": {
    "colab": {
     "base_uri": "https://localhost:8080/",
     "height": 487
    },
    "id": "nAfcjKuROXtY",
    "outputId": "12fe75aa-821b-45f5-b29d-42236ce4b6ee"
   },
   "outputs": [
    {
     "data": {
      "image/png": "[encoded data removed]",
      "text/plain": [
       "<Figure size 1000x500 with 1 Axes>"
      ]
     },
     "metadata": {},
     "output_type": "display_data"
    }
   ],
   "source": [
    "# 4. Show distribution of labels in the training set\n",
    "labels = [train_data[i][1] for i in range(len(train_data))]  # Extract all labels from the training dataset\n",
    "\n",
    "# Create a figure for the plot\n",
    "plt.figure(figsize=(10,5))  # Set the size of the plot to be 10 units wide and 5 units tall\n",
    "\n",
    "# Plot a histogram of the labels\n",
    "plt.hist(labels, bins=np.arange(11) - 0.5, rwidth=0.8, color='blue', alpha=0.7)  # Create a histogram of the labels\n",
    "# bins=np.arange(11) creates bins for digits 0-9, with 0.5 padding for aesthetics\n",
    "# rwidth=0.8 reduces the width of the bars slightly for spacing\n",
    "# color='blue' sets the bar color\n",
    "# alpha=0.7 sets the transparency of the bars (0 is fully transparent, 1 is opaque)\n",
    "\n",
    "# Add x-ticks for each digit\n",
    "plt.xticks(np.arange(10))  # Ensure the x-axis ticks are labeled as 0 to 9\n",
    "\n",
    "# Add title and labels\n",
    "plt.title('Distribution of Labels in MNIST Training Set')  # Title for the plot\n",
    "plt.xlabel('Digit Labels')  # Label for the x-axis\n",
    "plt.ylabel('Frequency')  # Label for the y-axis (number of occurrences of each label)\n",
    "\n",
    "# Show the plot\n",
    "plt.show()  # Display the plot\n"
   ]
  },
  {
   "cell_type": "markdown",
   "metadata": {
    "id": "5KgJoeBcRM4m"
   },
   "source": [
    "## Step 11: Data Type"
   ]
  },
  {
   "cell_type": "code",
   "execution_count": 12,
   "metadata": {
    "colab": {
     "base_uri": "https://localhost:8080/"
    },
    "id": "BTuH27qrPLF4",
    "outputId": "316ea4c2-f5d9-4268-d77b-afd40edc1f90"
   },
   "outputs": [
    {
     "name": "stdout",
     "output_type": "stream",
     "text": [
      "Data type: torch.float32\n",
      "Pixel range after normalization: Min = 0.0, Max = 1.0\n"
     ]
    }
   ],
   "source": [
    "# Print the data type of the image (to verify it's a torch.Tensor)\n",
    "print(f\"Data type: {sample_image.dtype}\")\n",
    "\n",
    "# Print the pixel value range for the image (to ensure it is normalized)\n",
    "print(f\"Pixel range after normalization: Min = {sample_image.min()}, Max = {sample_image.max()}\")\n"
   ]
  },
  {
   "cell_type": "markdown",
   "metadata": {
    "id": "kXAL5jr9RRWC"
   },
   "source": [
    "## Step 12: Creating a Model"
   ]
  },
  {
   "cell_type": "code",
   "execution_count": 13,
   "metadata": {
    "id": "hZ4p-pu_VdWm"
   },
   "outputs": [],
   "source": [
    "\n",
    "# Define the OOP Model class inheriting from nn.Module\n",
    "class MNISTModel(nn.Module):\n",
    "    def __init__(self):\n",
    "        super(MNISTModel, self).__init__()  # Call the parent class's constructor\n",
    "\n",
    "        # Define the layers of the model\n",
    "\n",
    "        # 1. Fully connected (Linear) layer that takes 28x28 pixel input and maps it to 128 units\n",
    "        self.fc1 = nn.Linear(28 * 28, 128)\n",
    "\n",
    "        # 2. Another fully connected layer that reduces the 128 units to 64 units\n",
    "        self.fc2 = nn.Linear(128, 64)\n",
    "\n",
    "        # 3. Output layer that maps the 64 units to 10 units (corresponding to the 10 classes in MNIST)\n",
    "        self.fc3 = nn.Linear(64, 10)\n",
    "\n",
    "        # Define the activation function - ReLU (Rectified Linear Unit)\n",
    "        self.relu = nn.ReLU()  # ReLU introduces non-linearity after each layer\n",
    "\n",
    "    # Define the forward pass (how data flows through the network)\n",
    "    def forward(self, x):\n",
    "        # Flatten the input tensor from (batch_size, 1, 28, 28) to (batch_size, 784)\n",
    "        x = x.view(-1, 28 * 28)  # -1 means batch size will be inferred automatically\n",
    "\n",
    "        # Pass data through the first layer and apply ReLU activation\n",
    "        x = self.relu(self.fc1(x))\n",
    "\n",
    "        # Pass data through the second layer and apply ReLU activation\n",
    "        x = self.relu(self.fc2(x))\n",
    "\n",
    "        # Pass data through the output layer (no activation here; it's handled by the loss function later)\n",
    "        x = self.fc3(x)\n",
    "\n",
    "        return x  # Return the output (logits)\n"
   ]
  },
  {
   "cell_type": "markdown",
   "metadata": {
    "id": "AhxjD9lNVdVN"
   },
   "source": [
    "* The model class MNISTModel inherits from nn.Module, which is the base class for all models in PyTorch. It ensures that the custom model behaves like a PyTorch neural network.\n",
    "* Fully Connected Layers (nn.Linear): These layers perform linear transformations on the input. The first layer fc1 takes the flattened input (28×28 pixels = 784 features) and maps it to 128 hidden units. The second layer fc2 reduces these 128 units to 64. Finally, the third layer fc3 produces 10 outputs, corresponding to the 10 digit classes (0 to 9).\n",
    "* Activation Function (ReLU): The ReLU (Rectified Linear Unit) function introduces non-linearity into the model. Without it, the model would behave like a simple linear function, limiting its ability to learn complex patterns. ReLU helps the model learn more intricate relationships in the data.\n",
    "* The forward function defines how the data flows through the model.\n",
    "* Flattening: The input image, which is originally a 2D 28×28 grid, is flattened into a 1D array with 784 elements.\n",
    "* Layer 1: The flattened image is passed through the first fully connected layer (fc1), which transforms it into 128 features. The ReLU activation is then applied.\n",
    "* Layer 2: The output from the first layer is passed to the second fully connected layer (fc2), which reduces the 128 features to 64, followed by ReLU activation.\n",
    "* Output Layer: The 64 features are passed to the final output layer (fc3), which produces 10 output values (logits). These logits represent the raw scores for each class, which will be processed later by the loss function (e.g., cross-entropy).\n"
   ]
  },
  {
   "cell_type": "markdown",
   "metadata": {
    "id": "f_w1stA4RYoq"
   },
   "source": [
    "## Step 13:"
   ]
  },
  {
   "cell_type": "code",
   "execution_count": 14,
   "metadata": {
    "id": "PqIiOMRzdc-p"
   },
   "outputs": [],
   "source": [
    "# Instantiate the OOP model\n",
    "oop_model = MNISTModel().to(device)  # Move the model to the device (GPU/CPU)"
   ]
  },
  {
   "cell_type": "markdown",
   "metadata": {
    "id": "USEX0HHJRcre"
   },
   "source": [
    "## Step 14:"
   ]
  },
  {
   "cell_type": "code",
   "execution_count": 15,
   "metadata": {
    "colab": {
     "base_uri": "https://localhost:8080/"
    },
    "id": "cLIJDCc5Uxgf",
    "outputId": "5aedf046-a64d-4e36-f41f-4cab2b9b90ed"
   },
   "outputs": [
    {
     "data": {
      "text/plain": [
       "MNISTModel(\n",
       "  (fc1): Linear(in_features=784, out_features=128, bias=True)\n",
       "  (fc2): Linear(in_features=128, out_features=64, bias=True)\n",
       "  (fc3): Linear(in_features=64, out_features=10, bias=True)\n",
       "  (relu): ReLU()\n",
       ")"
      ]
     },
     "execution_count": 15,
     "metadata": {},
     "output_type": "execute_result"
    }
   ],
   "source": [
    "# Move model to GPU if available\n",
    "device = torch.device(\"cuda\" if torch.cuda.is_available() else \"cpu\")\n",
    "oop_model.to(device)"
   ]
  },
  {
   "cell_type": "markdown",
   "metadata": {
    "id": "eTVuASTlRgN3"
   },
   "source": [
    "## Step 15: Initiate the Model"
   ]
  },
  {
   "cell_type": "code",
   "execution_count": 16,
   "metadata": {
    "id": "a9YHrF6dU0hr"
   },
   "outputs": [],
   "source": [
    "# Define Loss and Optimizer\n",
    "loss_fn = nn.CrossEntropyLoss()\n",
    "optimizer = optim.Adam(oop_model.parameters(), lr=0.001)"
   ]
  },
  {
   "cell_type": "markdown",
   "metadata": {
    "id": "EP7NIZBiRnwJ"
   },
   "source": [
    "## Step 16: Print Model"
   ]
  },
  {
   "cell_type": "code",
   "execution_count": 17,
   "metadata": {
    "colab": {
     "base_uri": "https://localhost:8080/"
    },
    "id": "SMicQ8yJU9Wa",
    "outputId": "e01b68c1-c7a2-4013-a4fc-e5fe19543637"
   },
   "outputs": [
    {
     "name": "stdout",
     "output_type": "stream",
     "text": [
      "MNISTModel(\n",
      "  (fc1): Linear(in_features=784, out_features=128, bias=True)\n",
      "  (fc2): Linear(in_features=128, out_features=64, bias=True)\n",
      "  (fc3): Linear(in_features=64, out_features=10, bias=True)\n",
      "  (relu): ReLU()\n",
      ")\n"
     ]
    }
   ],
   "source": [
    "print(oop_model)"
   ]
  },
  {
   "cell_type": "markdown",
   "metadata": {
    "id": "9sKVB11pRrQC"
   },
   "source": [
    "## Step 17: Train Function"
   ]
  },
  {
   "cell_type": "code",
   "execution_count": 18,
   "metadata": {
    "colab": {
     "base_uri": "https://localhost:8080/"
    },
    "id": "82ZfUTD6VA1X",
    "outputId": "f272cddd-af5d-4d9d-d973-294f3af38630"
   },
   "outputs": [
    {
     "data": {
      "text/plain": [
       "0.3432202906043256"
      ]
     },
     "execution_count": 18,
     "metadata": {},
     "output_type": "execute_result"
    }
   ],
   "source": [
    "# Modified training loop to return average training loss for each epoch\n",
    "def train_model(model, device, train_loader, optimizer, loss_fn):\n",
    "    model.train()  # Set the model to training mode (activates dropout and batch normalization)\n",
    "    running_loss = 0.0  # Initialize a variable to keep track of the cumulative loss for the epoch\n",
    "\n",
    "    # Iterate over batches of data from the training set\n",
    "    for batch_idx, (data, target) in enumerate(train_loader):\n",
    "        data, target = data.to(device), target.to(device)  # Move data and target to the appropriate device (GPU/CPU)\n",
    "\n",
    "        # Zero the gradients for the optimizer\n",
    "        optimizer.zero_grad()\n",
    "\n",
    "        # Forward pass: compute predicted outputs by passing data through the model\n",
    "        output = model(data)\n",
    "\n",
    "        # Calculate the loss between the predicted outputs and the true labels\n",
    "        loss = loss_fn(output, target)\n",
    "\n",
    "        # Backward pass: compute gradients of the loss with respect to model parameters\n",
    "        loss.backward()\n",
    "\n",
    "        # Update the model weights based on the computed gradients\n",
    "        optimizer.step()\n",
    "\n",
    "        running_loss += loss.item()  # Accumulate the loss for the current batch\n",
    "\n",
    "    # Compute the average loss for the entire epoch\n",
    "    avg_train_loss = running_loss / len(train_loader)\n",
    "    return avg_train_loss  # Return the average training loss for this epoch\n",
    "\n",
    "# Train the model by calling the train_model function\n",
    "train_model(oop_model, device, train_loader, optimizer, loss_fn)\n"
   ]
  },
  {
   "cell_type": "markdown",
   "metadata": {
    "id": "twi9HAcfWZyH"
   },
   "source": [
    "* model.train(): This sets the model to training mode. In this mode, layers like dropout and batch normalization behave differently (e.g., dropout is activated).\n",
    "* running_loss = 0.0: A variable to accumulate the loss for each batch, which will later help compute the average loss for the epoch.\n",
    "* for batch_idx, (data, target) in enumerate(train_loader): This loop goes through each batch of data from the train_loader. Each data contains input images, and target contains the corresponding labels.\n",
    "* data, target = data.to(device), target.to(device): This moves both the input data and the labels to the device specified (GPU or CPU).\n",
    "* optimizer.zero_grad(): Before the backward pass, gradients need to be zeroed to prevent accumulation from previous iterations.\n",
    "* output = model(data): The input data is passed through the model to get the predicted outputs.\n",
    "* loss = loss_fn(output, target): The loss function computes the difference between the predicted outputs and the true labels.\n",
    "*loss.backward(): This computes the gradient of the loss with respect to the model parameters (weights).\n",
    "* optimizer.step(): The optimizer updates the model parameters based on the computed gradients.\n",
    "* running_loss += loss.item(): This adds the current batch's loss to the running total.\n",
    "* avg_train_loss = running_loss / len(train_loader): After all batches have been processed, the average loss for the epoch is calculated.\n",
    "* return avg_train_loss: The function returns the average training loss, which can be useful for monitoring training progress.\n"
   ]
  },
  {
   "cell_type": "markdown",
   "metadata": {
    "id": "pNssiGzHRxER"
   },
   "source": [
    "## Step 18: Validation Function"
   ]
  },
  {
   "cell_type": "code",
   "execution_count": 19,
   "metadata": {
    "id": "X1GFJXxPh74y"
   },
   "outputs": [],
   "source": [
    "# Validation function\n",
    "def validate_model(model, device, val_loader, loss_fn):\n",
    "    model.eval()  # Set the model to evaluation mode (disables dropout and batch normalization)\n",
    "    val_loss = 0.0  # Variable to accumulate validation loss\n",
    "    correct = 0  # Counter for the number of correct predictions\n",
    "    all_preds = []  # List to store all predicted labels\n",
    "    all_labels = []  # List to store all true labels\n",
    "\n",
    "    with torch.no_grad():  # Disable gradient computation during validation for efficiency\n",
    "        for data, target in val_loader:  # Iterate through the validation data\n",
    "            data, target = data.to(device), target.to(device)  # Move data and target to the appropriate device\n",
    "            output = model(data)  # Forward pass: compute predicted outputs by passing data through the model\n",
    "            val_loss += loss_fn(output, target).item()  # Accumulate validation loss\n",
    "\n",
    "            # Get predictions by finding the index of the maximum log-probability\n",
    "            pred = output.argmax(dim=1, keepdim=True)  # Get the predicted class labels\n",
    "            correct += pred.eq(target.view_as(pred)).sum().item()  # Count correct predictions\n",
    "            all_preds.extend(pred.cpu().numpy())  # Store predicted labels\n",
    "            all_labels.extend(target.cpu().numpy())  # Store true labels\n",
    "\n",
    "    # Compute average loss and accuracy for validation\n",
    "    avg_val_loss = val_loss / len(val_loader)  # Average validation loss\n",
    "    accuracy = 100. * correct / len(val_loader.dataset)  # Accuracy as a percentage\n",
    "\n",
    "    return avg_val_loss, accuracy  # Return average validation loss and accuracy\n"
   ]
  },
  {
   "cell_type": "markdown",
   "metadata": {
    "id": "LDz52F2_XV3L"
   },
   "source": [
    "* model.eval(): This sets the model to evaluation mode. In this mode, layers like dropout and batch normalization will not apply their regularization effects, allowing for stable predictions.\n",
    "\n",
    "* val_loss = 0.0: This variable accumulates the total validation loss.\n",
    "correct = 0: A counter to keep track of the number of correct predictions.\n",
    "\n",
    "* all_preds and all_labels: Lists to store predicted and true labels, respectively, which can be used for further evaluation metrics.\n",
    "\n",
    "* with torch.no_grad(): This context manager disables gradient calculation, which is unnecessary during validation and saves memory and computation.\n",
    "\n",
    "* for data, target in val_loader: This loop iterates through each batch of validation data.\n",
    "\n",
    "* data, target = data.to(device), target.to(device): Both input data and target labels are moved to the specified device (GPU or CPU).\n",
    "\n",
    "* output = model(data): The model generates predictions by processing the input data.\n",
    "\n",
    "* val_loss += loss_fn(output, target).item(): The loss for the current batch is calculated and added to the total validation loss.\n",
    "\n",
    "* pred = output.argmax(dim=1, keepdim=True): The predicted class labels are obtained by finding the index of the maximum value along the specified dimension.\n",
    "\n",
    "* correct += pred.eq(target.view_as(pred)).sum().item(): The number of correct predictions is updated by comparing predicted labels with true labels.\n",
    "\n",
    "* all_preds.extend(pred.cpu().numpy()): The predicted labels are added to the list of all predictions.\n",
    "\n",
    "* all_labels.extend(target.cpu().numpy()): The true labels are added to the list of all true labels.\n",
    "\n",
    "* avg_val_loss = val_loss / len(val_loader): The average validation loss is calculated.\n",
    "\n",
    "* accuracy = 100. * correct / len(val_loader.dataset): The accuracy is calculated as a percentage of correct predictions out of total validation samples.\n",
    "\n",
    "* return avg_val_loss, accuracy: The function returns the average validation loss and accuracy."
   ]
  },
  {
   "cell_type": "markdown",
   "metadata": {
    "id": "s0e8-ORaR02X"
   },
   "source": [
    "## Step 19: Test Function"
   ]
  },
  {
   "cell_type": "code",
   "execution_count": 20,
   "metadata": {
    "colab": {
     "base_uri": "https://localhost:8080/"
    },
    "id": "6OTEFE_dVhJ-",
    "outputId": "67df7d01-9aaa-400f-de75-9a7ed8969d2d"
   },
   "outputs": [
    {
     "name": "stdout",
     "output_type": "stream",
     "text": [
      "\n",
      "Evaluating OOP Model:\n",
      "Test Loss: 0.1806, Accuracy: 9465/10000 (94.65%)\n"
     ]
    },
    {
     "data": {
      "text/plain": [
       "(0.18055043441901922, 94.65)"
      ]
     },
     "execution_count": 20,
     "metadata": {},
     "output_type": "execute_result"
    }
   ],
   "source": [
    "# Testing function\n",
    "def test_model(model, device, test_loader, loss_fn):\n",
    "    model.eval()  # Set the model to evaluation mode (disables dropout and batch normalization)\n",
    "    test_loss = 0.0  # Variable to accumulate total test loss\n",
    "    correct = 0  # Counter for the number of correct predictions\n",
    "\n",
    "    with torch.no_grad():  # Disable gradient computation during testing for efficiency\n",
    "        for data, target in test_loader:  # Iterate over the test dataset\n",
    "            data, target = data.to(device), target.to(device)  # Move data and target to the appropriate device\n",
    "            output = model(data)  # Forward pass: compute predicted outputs by passing data through the model\n",
    "            test_loss += loss_fn(output, target).item()  # Accumulate test loss\n",
    "\n",
    "            # Get predictions by finding the index of the maximum log-probability\n",
    "            pred = output.argmax(dim=1, keepdim=True)  # Get the predicted class labels\n",
    "            correct += pred.eq(target.view_as(pred)).sum().item()  # Count correct predictions\n",
    "\n",
    "    # Compute average loss and accuracy for the test set\n",
    "    test_loss /= len(test_loader)  # Average test loss\n",
    "    accuracy = 100. * correct / len(test_loader.dataset)  # Accuracy as a percentage\n",
    "\n",
    "    # Print test loss and accuracy\n",
    "    print(f'Test Loss: {test_loss:.4f}, Accuracy: {correct}/{len(test_loader.dataset)} ({accuracy:.2f}%)')\n",
    "\n",
    "    return test_loss, accuracy  # Return average test loss and accuracy\n",
    "\n",
    "# Evaluate the OOP model\n",
    "print(\"\\nEvaluating OOP Model:\")\n",
    "test_model(oop_model, device, test_loader, loss_fn)\n"
   ]
  },
  {
   "cell_type": "markdown",
   "metadata": {
    "id": "DkdKlGTqctZt"
   },
   "source": [
    "* model.eval(): This sets the model to evaluation mode. This is important because it ensures that layers like dropout and batch normalization are functioning correctly for evaluation.\n",
    "\n",
    "* test_loss = 0.0: This variable accumulates the total test loss across all batches.\n",
    "\n",
    "* correct = 0: A counter to keep track of the number of correct predictions made by the model.\n",
    "\n",
    "* with torch.no_grad(): This context manager disables gradient calculation, which is unnecessary during testing, saving memory and computational resources.\n",
    "\n",
    "* for data, target in test_loader: This loop iterates through each batch of test data.\n",
    "\n",
    "* data, target = data.to(device), target.to(device): The input data and true labels are moved to the specified device (GPU or CPU) for processing.\n",
    "\n",
    "* output = model(data): The model generates predictions by processing the input data.\n",
    "\n",
    "* test_loss += loss_fn(output, target).item(): The loss for the current batch is calculated using the specified loss function and added to the total test loss.\n",
    "\n",
    "* pred = output.argmax(dim=1, keepdim=True): The predicted class labels are obtained by finding the index of the maximum value along the specified dimension (usually the class scores).\n",
    "\n",
    "* correct += pred.eq(target.view_as(pred)).sum().item(): The number of correct predictions is updated by comparing the predicted labels with the true labels.\n",
    "\n",
    "* test_loss /= len(test_loader): The average test loss is calculated by dividing the total loss by the number of batches in the test loader.\n",
    "accuracy = 100. * correct / len(test_loader.dataset): The accuracy is calculated as a percentage of correct predictions out of total test samples."
   ]
  },
  {
   "cell_type": "markdown",
   "metadata": {
    "id": "UvQJSk-eR8KM"
   },
   "source": [
    "## Step 20: Execution of Training Function"
   ]
  },
  {
   "cell_type": "code",
   "execution_count": 21,
   "metadata": {
    "id": "7Vm30hKJWNTi"
   },
   "outputs": [],
   "source": [
    "# Training and validation loop with validation set\n",
    "def train_and_evaluate(model, device, train_loader, val_loader, test_loader, optimizer, loss_fn, epochs=5):\n",
    "    # Lists to store losses and accuracies\n",
    "    train_losses = []  # To track training losses over epochs\n",
    "    val_losses = []    # To track validation losses over epochs\n",
    "    val_accuracies = []  # To track validation accuracies over epochs\n",
    "    test_losses = []   # To track test losses after training\n",
    "    test_accuracies = []  # To track test accuracies after training\n",
    "\n",
    "    # Loop over the number of epochs\n",
    "    for epoch in range(epochs):\n",
    "        print(f\"\\nEpoch {epoch + 1}/{epochs}\")\n",
    "\n",
    "        # Train the model and get training loss\n",
    "        train_loss = train_model(model, device, train_loader, optimizer, loss_fn)  # Call the training function\n",
    "        train_losses.append(train_loss)  # Store the training loss\n",
    "\n",
    "        # Validate the model and get validation loss and accuracy\n",
    "        val_loss, val_accuracy = validate_model(model, device, val_loader, loss_fn)  # Call the validation function\n",
    "        val_losses.append(val_loss)  # Store the validation loss\n",
    "        val_accuracies.append(val_accuracy)  # Store the validation accuracy\n",
    "\n",
    "        # Test the model and get test loss and accuracy (only for test set evaluation)\n",
    "        test_loss, test_accuracy = test_model(model, device, test_loader, loss_fn)  # Call the testing function\n",
    "        test_losses.append(test_loss)  # Store the test loss\n",
    "        test_accuracies.append(test_accuracy)  # Store the test accuracy\n",
    "\n",
    "        # Print training and validation results for the current epoch\n",
    "        print(f\"Training Loss: {train_loss:.4f}\")\n",
    "        print(f\"Validation Loss: {val_loss:.4f}, Validation Accuracy: {val_accuracy:.2f}%\")\n",
    "        print(f\"Test Loss: {test_loss:.4f}, Test Accuracy: {test_accuracy:.2f}%\")\n",
    "\n",
    "    # Return all recorded losses and accuracies for further analysis\n",
    "    return train_losses, val_losses, val_accuracies, test_losses, test_accuracies\n"
   ]
  },
  {
   "cell_type": "markdown",
   "metadata": {
    "id": "Djm-hXDrSA1S"
   },
   "source": [
    "## Step 21: Running Everything Together!"
   ]
  },
  {
   "cell_type": "code",
   "execution_count": 22,
   "metadata": {
    "colab": {
     "base_uri": "https://localhost:8080/"
    },
    "id": "nV8LNUMBAGKt",
    "outputId": "dcbdeff3-049e-4211-ebbf-e75ffa759fa7"
   },
   "outputs": [
    {
     "name": "stdout",
     "output_type": "stream",
     "text": [
      "\n",
      "Epoch 1/5\n",
      "Test Loss: 0.1203, Accuracy: 9623/10000 (96.23%)\n",
      "Training Loss: 0.1448\n",
      "Validation Loss: 0.1395, Validation Accuracy: 95.70%\n",
      "Test Loss: 0.1203, Test Accuracy: 96.23%\n",
      "\n",
      "Epoch 2/5\n",
      "Test Loss: 0.0971, Accuracy: 9696/10000 (96.96%)\n",
      "Training Loss: 0.0989\n",
      "Validation Loss: 0.1103, Validation Accuracy: 96.73%\n",
      "Test Loss: 0.0971, Test Accuracy: 96.96%\n",
      "\n",
      "Epoch 3/5\n",
      "Test Loss: 0.0945, Accuracy: 9712/10000 (97.12%)\n",
      "Training Loss: 0.0772\n",
      "Validation Loss: 0.1053, Validation Accuracy: 96.78%\n",
      "Test Loss: 0.0945, Test Accuracy: 97.12%\n",
      "\n",
      "Epoch 4/5\n",
      "Test Loss: 0.1002, Accuracy: 9701/10000 (97.01%)\n",
      "Training Loss: 0.0608\n",
      "Validation Loss: 0.1166, Validation Accuracy: 96.43%\n",
      "Test Loss: 0.1002, Test Accuracy: 97.01%\n",
      "\n",
      "Epoch 5/5\n",
      "Test Loss: 0.0867, Accuracy: 9734/10000 (97.34%)\n",
      "Training Loss: 0.0482\n",
      "Validation Loss: 0.1044, Validation Accuracy: 96.73%\n",
      "Test Loss: 0.0867, Test Accuracy: 97.34%\n"
     ]
    }
   ],
   "source": [
    "# Example usage for 5 epochs (replace train_loader, val_loader, and test_loader with actual loaders)\n",
    "epochs = 5  # Set the number of epochs for training\n",
    "\n",
    "# Track training, validation, and test results\n",
    "train_losses, val_losses, val_accuracies, test_losses, test_accuracies = train_and_evaluate(\n",
    "    oop_model,  # The model to be trained and evaluated\n",
    "    device,  # The device (CPU or GPU) where the model will run\n",
    "    train_loader,  # DataLoader for training data\n",
    "    val_loader,  # DataLoader for validation data\n",
    "    test_loader,  # DataLoader for test data\n",
    "    optimizer,  # Optimizer to update model weights\n",
    "    loss_fn,  # Loss function to compute the loss\n",
    "    epochs=epochs  # Number of epochs to train for\n",
    ")\n",
    "\n",
    "# After training, you can analyze the recorded losses and accuracies\n"
   ]
  },
  {
   "cell_type": "markdown",
   "metadata": {
    "id": "tUk5FOo-SMp_"
   },
   "source": [
    "## Step 22: Loss Curves"
   ]
  },
  {
   "cell_type": "code",
   "execution_count": 23,
   "metadata": {
    "colab": {
     "base_uri": "https://localhost:8080/",
     "height": 564
    },
    "id": "IwSmsqCmA7hm",
    "outputId": "0ce720f8-ab11-4d0e-b8c3-ed8f32ab7bf4"
   },
   "outputs": [
    {
     "data": {
      "image/png": "[encoded data removed]",
      "text/plain": [
       "<Figure size 800x600 with 1 Axes>"
      ]
     },
     "metadata": {},
     "output_type": "display_data"
    }
   ],
   "source": [
    "# Plot the loss curves for training, validation, and test sets\n",
    "epochs = range(1, len(train_losses) + 1)\n",
    "\n",
    "plt.figure(figsize=(8, 6))\n",
    "plt.plot(epochs, train_losses, 'g', label='Training loss')\n",
    "plt.plot(epochs, val_losses, 'b', label='Validation loss')\n",
    "plt.plot(epochs, test_losses, 'r', label='Test loss')\n",
    "plt.title('Training, Validation, and Test Loss')\n",
    "plt.xlabel('Epochs')\n",
    "plt.ylabel('Loss')\n",
    "plt.legend()\n",
    "plt.grid(True)\n",
    "plt.show()"
   ]
  },
  {
   "cell_type": "markdown",
   "metadata": {
    "id": "4GkWaOf5SQ1j"
   },
   "source": [
    "## Step 23: Confusion Matrix"
   ]
  },
  {
   "cell_type": "code",
   "execution_count": 24,
   "metadata": {
    "colab": {
     "base_uri": "https://localhost:8080/",
     "height": 718
    },
    "id": "Xo67UspABZ1M",
    "outputId": "5bf327c3-534a-414c-d89c-a6c8e6a2b6b9"
   },
   "outputs": [
    {
     "data": {
      "image/png": "[encoded data removed]",
      "text/plain": [
       "<Figure size 1000x800 with 2 Axes>"
      ]
     },
     "metadata": {},
     "output_type": "display_data"
    }
   ],
   "source": [
    "# Import necessary libraries for metrics and visualization\n",
    "from sklearn.metrics import confusion_matrix\n",
    "import seaborn as sns\n",
    "import matplotlib.pyplot as plt\n",
    "\n",
    "# After testing the model, get all predictions and true labels\n",
    "all_preds = []  # List to store all predicted labels\n",
    "all_labels = []  # List to store all true labels\n",
    "\n",
    "# Set the model to evaluation mode\n",
    "oop_model.eval()\n",
    "with torch.no_grad():  # Disable gradient calculation for evaluation\n",
    "    for data, labels in test_loader:  # Iterate over the test data loader\n",
    "        data, labels = data.to(device), labels.to(device)  # Move data and labels to the device (GPU/CPU)\n",
    "\n",
    "        output = oop_model(data)  # Get model predictions\n",
    "        _, preds = torch.max(output, 1)  # Get the predicted labels (index of max logit)\n",
    "\n",
    "        # Extend the lists with predictions and true labels\n",
    "        all_preds.extend(preds.cpu().numpy())  # Move predictions to CPU and convert to numpy\n",
    "        all_labels.extend(labels.cpu().numpy())  # Move true labels to CPU and convert to numpy\n",
    "\n",
    "# Compute the confusion matrix\n",
    "cm = confusion_matrix(all_labels, all_preds)  # Generate confusion matrix from true and predicted labels\n",
    "\n",
    "# Plot using seaborn heatmap\n",
    "plt.figure(figsize=(10, 8))  # Create a new figure with specified size\n",
    "sns.heatmap(cm, annot=True, fmt='d', cmap='Blues',  # Create a heatmap for the confusion matrix\n",
    "            xticklabels=range(10), yticklabels=range(10))  # Set x and y tick labels for classes\n",
    "plt.title('Confusion Matrix')  # Title of the plot\n",
    "plt.xlabel('Predicted Label')  # Label for the x-axis\n",
    "plt.ylabel('True Label')  # Label for the y-axis\n",
    "plt.show()  # Display the plot\n"
   ]
  },
  {
   "cell_type": "markdown",
   "metadata": {
    "id": "q8BCIiixSUuu"
   },
   "source": [
    "## Step 24: Plotting Misclassified Images (optional)"
   ]
  },
  {
   "cell_type": "code",
   "execution_count": 25,
   "metadata": {
    "colab": {
     "base_uri": "https://localhost:8080/",
     "height": 1000
    },
    "id": "V3YQjnvOCELU",
    "outputId": "7700651f-a8b4-4914-e2fa-0681e1c2e7df"
   },
   "outputs": [
    {
     "data": {
      "image/png": "[encoded data removed]",
      "text/plain": [
       "<Figure size 1000x1000 with 9 Axes>"
      ]
     },
     "metadata": {},
     "output_type": "display_data"
    }
   ],
   "source": [
    "# Initialize lists to store misclassified images, true labels, and predicted labels\n",
    "misclassified_images = []  # To store images that were misclassified\n",
    "misclassified_labels = []   # To store true labels of misclassified images\n",
    "misclassified_preds = []    # To store predicted labels of misclassified images\n",
    "\n",
    "# Set the model to evaluation mode to ensure layers behave correctly during inference\n",
    "oop_model.eval()\n",
    "with torch.no_grad():  # Disable gradient calculation for inference\n",
    "    # Iterate over the test data loader\n",
    "    for data, labels in test_loader:\n",
    "        data, labels = data.to(device), labels.to(device)  # Move data and labels to the appropriate device\n",
    "        output = oop_model(data)  # Get model predictions\n",
    "\n",
    "        # Get the predicted class by taking the index of the maximum logit\n",
    "        _, preds = torch.max(output, 1)\n",
    "\n",
    "        # Loop through the data, labels, and predictions\n",
    "        for img, label, pred in zip(data, labels, preds):\n",
    "            # Check if the predicted label does not match the true label\n",
    "            if label != pred:\n",
    "                # If misclassified, store the image and its corresponding labels\n",
    "                misclassified_images.append(img.cpu())  # Move image to CPU for storage\n",
    "                misclassified_labels.append(label.cpu())  # Move true label to CPU for storage\n",
    "                misclassified_preds.append(pred.cpu())  # Move predicted label to CPU for storage\n",
    "\n",
    "# Visualize some of the misclassified images\n",
    "fig, axes = plt.subplots(3, 3, figsize=(10, 10))  # Create a 3x3 grid of subplots\n",
    "axes = axes.flatten()  # Flatten the axes array for easy iteration\n",
    "\n",
    "# Iterate over the first 9 misclassified images\n",
    "for img, label, pred, ax in zip(misclassified_images[:9], misclassified_labels[:9], misclassified_preds[:9], axes):\n",
    "    img = img.squeeze()  # Remove unnecessary dimensions (1, 28, 28) -> (28, 28)\n",
    "    ax.imshow(img, cmap='gray')  # Display the image in grayscale\n",
    "    ax.set_title(f\"True: {label}, Pred: {pred}\")  # Set the title with true and predicted labels\n",
    "    ax.axis('off')  # Hide axes for better visualization\n",
    "\n",
    "plt.tight_layout()  # Adjust layout to prevent overlap\n",
    "plt.show()  # Display the plot\n"
   ]
  },
  {
   "cell_type": "markdown",
   "metadata": {
    "id": "wV97BBUJOv3U"
   },
   "source": [
    "## Frequently Asked Questions (FAQs)"
   ]
  },
  {
   "cell_type": "markdown",
   "metadata": {
    "id": "75ZwEn1WTtan"
   },
   "source": [
    "**On Step 1**"
   ]
  },
  {
   "cell_type": "markdown",
   "metadata": {
    "id": "EPVjLrbdZ1Uf"
   },
   "source": [
    "Why use PyTorch?\n",
    "\n",
    "\n",
    "1.   PyTorch is well-known for its tensor operations, which are similar to NumPy arrays but support GPU acceleration.\n",
    "2.   Dynamic Computational Graphs: Unlike TensorFlow (with static computation graphs), PyTorch allows dynamic graphs, making it easier to debug and work with.\n",
    "\n",
    "Why torchvision?\n",
    "\n",
    "PyTorch's torchvision library provides utilities specifically designed for computer vision tasks. This includes standardized datasets (e.g., MNIST, CIFAR-10), pre-trained models, and image transformation pipelines."
   ]
  },
  {
   "cell_type": "markdown",
   "metadata": {
    "id": "4P09qqv0TuLV"
   },
   "source": [
    "**On Step 2**"
   ]
  },
  {
   "cell_type": "markdown",
   "metadata": {
    "id": "DI2f9u6glz6n"
   },
   "source": [
    "Why is setting a random seed important?\n",
    "\n",
    "Setting a random seed is a best practice in machine learning and deep learning because it allows you (and others) to reproduce the exact results of an experiment. This is particularly important for debugging, sharing code, and comparing results across different runs."
   ]
  },
  {
   "cell_type": "markdown",
   "metadata": {
    "id": "sciy5InuTvCN"
   },
   "source": [
    "**On Step 3**"
   ]
  },
  {
   "cell_type": "markdown",
   "metadata": {
    "id": "0GP1FLFNmKzR"
   },
   "source": [
    "What is CUDA?\n",
    "\n",
    "CUDA (Compute Unified Device Architecture) is a parallel computing platform and API model created by NVIDIA. It allows programs to use the power of NVIDIA GPUs for general-purpose computing. GPUs can perform many operations simultaneously, making them extremely efficient for tasks like matrix multiplication, which are common in deep learning."
   ]
  },
  {
   "cell_type": "markdown",
   "metadata": {
    "id": "dJs4DY_hTwIb"
   },
   "source": [
    "**On Step 4**"
   ]
  },
  {
   "cell_type": "markdown",
   "metadata": {
    "id": "BLb_EqY7mTNF"
   },
   "source": [
    "Why do we convert images to a Tensor?:\n",
    "\n",
    "PyTorch models cannot work directly with images in formats like PIL or NumPy arrays. They need the data to be in the form of a Tensor so that operations like matrix multiplication, backpropagation, and optimization can be applied.Tensors also support efficient computation on GPUs, allowing the model to leverage parallel processing during training."
   ]
  },
  {
   "cell_type": "markdown",
   "metadata": {
    "id": "RwJ7oDgXTw25"
   },
   "source": [
    "**On Step 5**"
   ]
  },
  {
   "cell_type": "markdown",
   "metadata": {
    "id": "DuU1y_R7mY6R"
   },
   "source": [
    "Why do we need a separate test dataset?\n",
    "\n",
    "\n",
    "The test dataset is used to evaluate how well the model performs on data it hasn't seen during training. This helps in checking the generalization ability of the model, ensuring it can work on real-world, unseen data.\n",
    "\n",
    "Why is the dataset downloaded via code?\n",
    "\n",
    "Datasets like MNIST are large and not included by default with every PyTorch installation. By downloading the dataset dynamically, we ensure the necessary files are available without manual effort."
   ]
  },
  {
   "cell_type": "markdown",
   "metadata": {
    "id": "2L4c3FFGTxo2"
   },
   "source": [
    "**On Step 6+7**"
   ]
  },
  {
   "cell_type": "markdown",
   "metadata": {
    "id": "8IRlVbJ3mtDP"
   },
   "source": [
    "Why is batch size important?\n",
    "\n",
    "Batch size affects the memory usage and the speed of training. Smaller batch sizes lead to more updates to the model weights (which can help with convergence), while larger batch sizes can make training faster but may require more memory.\n",
    "\n",
    "\n",
    "Why do we shuffle the training data but not the validation/test data?\n",
    "\n",
    "Shuffling the training data helps prevent the model from learning the order of the data. For validation and testing, we don't shuffle because we want consistent and repeatable results when evaluating performance."
   ]
  },
  {
   "cell_type": "markdown",
   "metadata": {
    "id": "WiZzceqdTyMu"
   },
   "source": [
    "**On Step 8**"
   ]
  },
  {
   "cell_type": "markdown",
   "metadata": {
    "id": "lFnH6vfUm6c-"
   },
   "source": [
    "Why is it important to know the shape of the input image?\n",
    "\n",
    "The shape of the input image must match what the model expects. For example, if your model is designed to take a 28x28 pixel image as input, feeding it a differently sized image will cause errors. Understanding input dimensions helps you avoid these issues.\n",
    "\n",
    "Why is the label important?\n",
    "\n",
    "The label is the correct digit that corresponds to the image. During training, the model uses this label to calculate the error between its prediction and the true value. This error is then used to update the model’s weights."
   ]
  },
  {
   "cell_type": "markdown",
   "metadata": {
    "id": "gans3ehiTzKi"
   },
   "source": [
    "**On Step 9+10**"
   ]
  },
  {
   "cell_type": "markdown",
   "metadata": {
    "id": "umF2pad3nAsD"
   },
   "source": [
    "What would happen if the dataset were imbalanced?\n",
    "\n",
    "In an imbalanced dataset, the model might become biased toward predicting the more frequent classes, resulting in poor performance on the less frequent classes. This is why visualizing the label distribution is useful in identifying and addressing class imbalance early.\n",
    "\n",
    "Why use transparency (alpha=0.7) for the bars?\n",
    "\n",
    "The transparency makes the plot visually lighter and can help when overlaying multiple histograms on the same plot (which can be useful for comparison in other tasks)."
   ]
  },
  {
   "cell_type": "markdown",
   "metadata": {
    "id": "7aj1M8lVTz4R"
   },
   "source": [
    "**On Step 11**"
   ]
  },
  {
   "cell_type": "markdown",
   "metadata": {
    "id": "7UbeWwyvnEd6"
   },
   "source": [
    "Why is normalization critical for model performance?\n",
    "\n",
    "Normalization prevents large variations in pixel values from negatively affecting model training. It ensures that gradients remain manageable and that the model can learn efficiently.\n",
    "\n",
    "What happens if the data isn’t normalized?\n",
    "\n",
    "If the data isn't normalized, the learning process can become erratic. Large values might cause gradient explosions, while small values might result in very small updates to the model weights, slowing down learning."
   ]
  },
  {
   "cell_type": "markdown",
   "metadata": {
    "id": "BREq0UXIyFXF"
   },
   "source": [
    "**On Step 12+13**"
   ]
  },
  {
   "cell_type": "markdown",
   "metadata": {
    "id": "_MEg52rdye5S"
   },
   "source": [
    "Why do we flatten the input?\n",
    "\n",
    "Since the fully connected layers expect a 1D input, we need to convert the 2D image (28×28 pixels) into a 1D array (784 elements). This flattening ensures compatibility with the linear layers.\n",
    "\n",
    "Why don't we apply activation functions in the output layer?\n",
    "\n",
    "The final output is passed to a loss function (like cross-entropy loss) which expects raw logits. The loss function will handle converting the logits into probabilities (e.g., via softmax), so we don’t apply an activation function directly in the output layer.\n",
    "\n",
    "What is the role of nn.Module?\n",
    "\n",
    "nn.Module is the base class in PyTorch for all models. It helps handle things like parameter management, moving models between devices, and defining custom layers and behavior for your model.\n",
    "\n",
    "\n",
    "What is the __init__() method and why is it important?\n",
    "\n",
    "\n",
    "The __init__() method sets up the model’s architecture by defining the layers that will be used in the neural network. This ensures that when we instantiate the model (oop_model = MNISTModel()), all the necessary layers are initialized and ready to be used in the forward pass.\n",
    "\n",
    "\n",
    "What is self.fc1, self.fc2, and self.fc3?\n",
    "\n",
    "self.fc1 defines the first fully connected layer, which takes the flattened input (784 pixels) and maps it to 128 features. Similarly, self.fc2 and self.fc3 define the second and output layers, mapping from 128 to 64 features, and finally from 64 features to 10 output classes (digits 0–9).\n",
    "\n",
    "\n",
    "What is the forward() function?\n",
    "\n",
    "The forward() function, we specify how the data is transformed layer by layer. The data is first flattened (since fully connected layers require 1D input) and then passed through fc1, fc2, and fc3 with ReLU activations between the layers. This process outputs logits, which are the unnormalized predictions for each class.\n",
    "\n",
    "Why do we flatten the input using x.view(-1, 28 * 28)?\n",
    "\n",
    "Flattening the input reshapes the 2D image (28×28) into a 1D array of 784 elements. This is necessary because fully connected layers operate on vectors, not matrices.\n",
    "\n",
    "What does to(device) do?\n",
    "\n",
    "to(device) moves the model to either the GPU or CPU, depending on which device is available. This is crucial because computations on a GPU can drastically speed up training, especially for large models or datasets."
   ]
  },
  {
   "cell_type": "markdown",
   "metadata": {
    "id": "NnKworgHT1ns"
   },
   "source": [
    "**On Step 14**"
   ]
  },
  {
   "cell_type": "markdown",
   "metadata": {
    "id": "AqjFoy4pnOTh"
   },
   "source": [
    "What happens if I try to use the model without moving it to the appropriate device?\n",
    "\n",
    "If the model is not moved to the same device as the input data, you will encounter an error indicating that the tensors are on different devices. Both the model and the data must be on the same device (either both on CPU or both on GPU) for operations to be performed.\n",
    "\n",
    "Can I use multiple GPUs?\n",
    "\n",
    "Yes, PyTorch supports multi-GPU training using torch.nn.DataParallel or torch.nn.parallel.DistributedDataParallel. This allows you to distribute your training workload across multiple GPUs, further speeding up the training process."
   ]
  },
  {
   "cell_type": "markdown",
   "metadata": {
    "id": "-5OP_J6TT00l"
   },
   "source": [
    "**On Step 15**"
   ]
  },
  {
   "cell_type": "markdown",
   "metadata": {
    "id": "deG2zDIHnJmk"
   },
   "source": [
    "Why do we need an optimizer in deep learning?\n",
    "\n",
    "The optimizer is responsible for updating the model's weights to minimize the loss function, helping the model learn and improve its predictions over time. Without an optimizer, the model wouldn't know how to adjust its parameters to reduce error.\n",
    "\n",
    "Why choose Adam over other optimizers like SGD?\n",
    "\n",
    "Adam typically converges faster than SGD and doesn’t require as much fine-tuning of the learning rate. It also performs well on many different types of tasks, making it a popular choice.\n",
    "\n",
    "How do we decide which learning rate to use?\n",
    "\n",
    "The learning rate is usually chosen based on experimentation. A too-high learning rate can cause the model to overshoot the optimal solution, while a too-low learning rate can make training very slow. Starting with 0.001 for Adam is often a good initial choice, and then it can be tuned further."
   ]
  },
  {
   "cell_type": "markdown",
   "metadata": {
    "id": "jV-USfyNT2gr"
   },
   "source": [
    "**On Step 16**"
   ]
  },
  {
   "cell_type": "markdown",
   "metadata": {
    "id": "Mi0pfLDinSW6"
   },
   "source": [
    "Why is it helpful to visualize the model architecture?\n",
    "\n",
    "Visualizing the architecture helps you understand the flow of data through the model, the types of operations being performed, and how the final output is produced. This is important for both design and debugging."
   ]
  },
  {
   "cell_type": "markdown",
   "metadata": {
    "id": "HMr7sT6_T3YB"
   },
   "source": [
    "**On Step 17**"
   ]
  },
  {
   "cell_type": "markdown",
   "metadata": {
    "id": "z75TYcx0nWul"
   },
   "source": [
    "Why do we zero the gradients before the backward pass?\n",
    "\n",
    "Gradients are accumulated by default in PyTorch. If we do not zero them, the gradients from the previous batches will be added to the current batch's gradients, leading to incorrect updates.\n",
    "\n",
    "Can I modify this training loop for different tasks?\n",
    "\n",
    "Yes, the training loop can be adjusted for various tasks (e.g., regression instead of classification) by changing the loss function and potentially the model architecture."
   ]
  },
  {
   "cell_type": "markdown",
   "metadata": {
    "id": "R2rAzvxuT4Nj"
   },
   "source": [
    "**On Step 18**"
   ]
  },
  {
   "cell_type": "markdown",
   "metadata": {
    "id": "MmlxogFPna_w"
   },
   "source": [
    "Why do we calculate both loss and accuracy during validation?\n",
    "\n",
    "Loss gives a measure of how well the model's predictions match the true labels, while accuracy provides a straightforward metric of how many predictions were correct. Both metrics are important to understand the model's performance comprehensively.\n",
    "\n",
    "Can I use the validation set to tune hyperparameters?\n",
    "\n",
    "Yes, the validation set is commonly used for hyperparameter tuning and model selection. However, it should not be used for training the model itself to avoid leakage of information.\n",
    "\n",
    "What should I do if my validation accuracy is much lower than my training accuracy?\n",
    "\n",
    "This may indicate overfitting. You can try regularization techniques, increase the training dataset size, or adjust the model architecture to improve generalization."
   ]
  },
  {
   "cell_type": "markdown",
   "metadata": {
    "id": "0jIVQ_UVT5C-"
   },
   "source": [
    "**On Step 19**"
   ]
  },
  {
   "cell_type": "markdown",
   "metadata": {
    "id": "b6XyPUXJngWz"
   },
   "source": [
    "What should I look for in the test loss and accuracy values?\n",
    "\n",
    "Ideally, you want low test loss and high accuracy. If test loss is high or accuracy is low compared to training performance, it may indicate issues like overfitting."
   ]
  },
  {
   "cell_type": "markdown",
   "metadata": {
    "id": "oCR7LWECT55i"
   },
   "source": [
    "**On Step 20**"
   ]
  },
  {
   "cell_type": "markdown",
   "metadata": {
    "id": "GcM1ysXbn0VS"
   },
   "source": [
    "Why is it important to validate the model during training?\n",
    "\n",
    "Validation helps track the model's performance on unseen data during training, allowing you to make adjustments and prevent overfitting before reaching the final test.\n",
    "\n",
    "What should I do if the validation accuracy does not improve?\n",
    "\n",
    "You might need to try different techniques such as adjusting the learning rate, changing the model architecture, or applying regularization methods to help improve validation accuracy."
   ]
  },
  {
   "cell_type": "markdown",
   "metadata": {
    "id": "xlITKYhZT6j2"
   },
   "source": [
    "**On Step 21**"
   ]
  },
  {
   "cell_type": "markdown",
   "metadata": {
    "id": "gJkHqY1cn5iU"
   },
   "source": [
    "How do I decide the number of epochs?\n",
    "\n",
    "Start with a small number (like 5-10) and increase it if your validation loss and accuracy continue to improve. Use early stopping techniques to prevent overfitting.\n",
    "\n",
    "What if the model performs poorly on the validation set?\n",
    "\n",
    "Poor validation performance can indicate overfitting. Consider regularization techniques, hyperparameter tuning, or revisiting your model architecture.\n",
    "\n"
   ]
  },
  {
   "cell_type": "markdown",
   "metadata": {
    "id": "TJAVurMsT7ZX"
   },
   "source": [
    "**On Step 22**"
   ]
  },
  {
   "cell_type": "markdown",
   "metadata": {
    "id": "BrcUfUnboRi2"
   },
   "source": [
    "What should I do if I see a significant gap between training and validation loss?\n",
    "\n",
    "A large gap usually indicates overfitting. You might consider techniques like regularization, dropout, or obtaining more training data.\n",
    "\n",
    "How can I tell if my model is underfitting?\n",
    "\n",
    "If both training and validation losses remain high, your model might be too simple to capture the underlying patterns in the data. Consider increasing model complexity or training for more epochs.\n"
   ]
  },
  {
   "cell_type": "markdown",
   "metadata": {
    "id": "i-NCLTCuT8ZB"
   },
   "source": [
    "**On Step 23**"
   ]
  },
  {
   "cell_type": "markdown",
   "metadata": {
    "id": "dR3iyAz4oLoF"
   },
   "source": [
    "Why do we use torch.no_grad() when evaluating the model?\n",
    "\n",
    "This context manager disables gradient tracking, which reduces memory consumption and speeds up computations since we don’t need to compute gradients for backpropagation during evaluation.\n",
    "\n",
    "What do the values in the confusion matrix represent?\n",
    "\n",
    "Each cell in the confusion matrix represents the number of predictions made by the model for the actual classes. The diagonal cells represent correct predictions, while off-diagonal cells represent misclassifications."
   ]
  },
  {
   "cell_type": "markdown",
   "metadata": {
    "id": "o8PShs9kT9Pm"
   },
   "source": [
    "**On Step 24**"
   ]
  },
  {
   "cell_type": "markdown",
   "metadata": {
    "id": "0Hx08JD9oDDr"
   },
   "source": [
    "Why do we use img.cpu() when storing misclassified images?\n",
    "\n",
    "This is necessary because the images are initially on the GPU. Moving them to the CPU ensures that they can be stored in a list and visualized later without any device compatibility issues.\n",
    "\n",
    "How can this analysis be used for further improvements?\n",
    "\n",
    "Misclassifications can indicate specific digits that the model struggles with. By analyzing these cases, you can augment training data for these classes, modify your model architecture, or apply techniques like transfer learning to improve performance."
   ]
  },
  {
   "cell_type": "markdown",
   "metadata": {
    "id": "lyv0VhM0VAqO"
   },
   "source": [
    "## Resources"
   ]
  },
  {
   "cell_type": "markdown",
   "metadata": {
    "id": "__bkjndgfJ1p"
   },
   "source": [
    "* https://pytorch.org/tutorials/beginner/pytorch_with_examples.html\n",
    "* https://docs.determined.ai/0.27.0/tutorials/pytorch-mnist-tutorial.html"
   ]
  }
 ],
 "metadata": {
  "accelerator": "GPU",
  "colab": {
   "gpuType": "T4",
   "provenance": []
  },
  "kernelspec": {
   "display_name": ".venv",
   "language": "python",
   "name": "python3"
  },
  "language_info": {
   "codemirror_mode": {
    "name": "ipython",
    "version": 3
   },
   "file_extension": ".py",
   "mimetype": "text/x-python",
   "name": "python",
   "nbconvert_exporter": "python",
   "pygments_lexer": "ipython3",
   "version": "3.12.8"
  }
 },
 "nbformat": 4,
 "nbformat_minor": 0
}
